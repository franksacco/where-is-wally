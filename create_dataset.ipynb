{
 "cells": [
  {
   "cell_type": "markdown",
   "metadata": {},
   "source": [
    "# Dataset creation\n",
    "\n",
    " - Hey Waldo: https://github.com/vc1492a/Hey-Waldo"
   ]
  },
  {
   "cell_type": "code",
   "execution_count": 1,
   "metadata": {},
   "outputs": [],
   "source": [
    "import glob\n",
    "import os\n",
    "from PIL import Image, ImageChops, ImageOps"
   ]
  },
  {
   "cell_type": "code",
   "execution_count": 2,
   "metadata": {},
   "outputs": [],
   "source": [
    "ORIGINAL_IMAGES_PATH = os.path.join(os.getcwd(), 'data', 'original')"
   ]
  },
  {
   "cell_type": "code",
   "execution_count": 3,
   "metadata": {},
   "outputs": [],
   "source": [
    "def chop(gridx, gridy, input_file_pattern, output_path):\n",
    "    \"\"\"\n",
    "    Chops the images into smaller images.\n",
    "    \"\"\"\n",
    "    images = glob.glob(input_file_pattern)\n",
    "    print(\"Founded %d images\" % len(images))\n",
    "    \n",
    "    for img_path in images:\n",
    "        img_name = img_path[img_path.rindex(os.sep) + 1:img_path.rindex('.')]\n",
    "        print(\"Processsing image %s...\" % img_name)\n",
    "        \n",
    "        img = Image.open(img_path)\n",
    "        width, height = img.size\n",
    "        rangex = int(width / gridx)\n",
    "        rangey = int(height / gridy)\n",
    "        \n",
    "        counter = 0\n",
    "        for x in range(rangex):\n",
    "            for y in range(rangey):\n",
    "                bbox = (x * gridx, y * gridy, (x + 1) * gridx, (y + 1) * gridy)\n",
    "                slice_bit = img.crop(bbox)\n",
    "                slice_bit.save(output_path + '/' + img_name + '_' + str(x) + '_' + str(y) + '.jpg',\n",
    "                               optimize=True, bits=6)\n",
    "                counter += 1\n",
    "                \n",
    "        print(\"Created %d subimages\" % counter)"
   ]
  },
  {
   "cell_type": "code",
   "execution_count": 4,
   "metadata": {},
   "outputs": [
    {
     "name": "stdout",
     "output_type": "stream",
     "text": [
      "Founded 30 images\n",
      "Processsing image 12_image...\n",
      "Created 24 subimages\n",
      "Processsing image 14_image...\n",
      "Created 54 subimages\n",
      "Processsing image 19_image...\n",
      "Created 15 subimages\n",
      "Processsing image 05_image...\n",
      "Created 48 subimages\n",
      "Processsing image 18_image...\n",
      "Created 18 subimages\n",
      "Processsing image 04_image...\n",
      "Created 32 subimages\n",
      "Processsing image 27_image...\n",
      "Created 4 subimages\n",
      "Processsing image 13_image...\n",
      "Created 15 subimages\n",
      "Processsing image 11_image...\n",
      "Created 77 subimages\n",
      "Processsing image 23_image...\n",
      "Created 60 subimages\n",
      "Processsing image 07_image...\n",
      "Created 35 subimages\n",
      "Processsing image 20_image...\n",
      "Created 88 subimages\n",
      "Processsing image 06_image...\n",
      "Created 40 subimages\n",
      "Processsing image 08_image...\n",
      "Created 60 subimages\n",
      "Processsing image 01_image...\n",
      "Created 32 subimages\n",
      "Processsing image 16_image...\n",
      "Created 28 subimages\n",
      "Processsing image 21_image...\n",
      "Created 40 subimages\n",
      "Processsing image 22_image...\n",
      "Created 6 subimages\n",
      "Processsing image 10_image...\n",
      "Created 18 subimages\n",
      "Processsing image 28_image...\n",
      "Created 4 subimages\n",
      "Processsing image 29_image...\n",
      "Created 15 subimages\n",
      "Processsing image 25_image...\n",
      "Created 4 subimages\n",
      "Processsing image 30_image...\n",
      "Created 6 subimages\n",
      "Processsing image 26_image...\n",
      "Created 6 subimages\n",
      "Processsing image 15_image...\n",
      "Created 18 subimages\n",
      "Processsing image 24_image...\n",
      "Created 24 subimages\n",
      "Processsing image 02_image...\n",
      "Created 15 subimages\n",
      "Processsing image 17_image...\n",
      "Created 24 subimages\n",
      "Processsing image 03_image...\n",
      "Created 40 subimages\n",
      "Processsing image 09_image...\n",
      "Created 15 subimages\n"
     ]
    }
   ],
   "source": [
    "chop(256, 256,\n",
    "     os.path.join(ORIGINAL_IMAGES_PATH, '*_image.jpg'),\n",
    "     os.path.join(ORIGINAL_IMAGES_PATH, '256x256'))"
   ]
  },
  {
   "cell_type": "code",
   "execution_count": 5,
   "metadata": {},
   "outputs": [
    {
     "name": "stdout",
     "output_type": "stream",
     "text": [
      "Founded 10 images\n",
      "Processsing image 07_mask...\n",
      "Created 35 subimages\n",
      "Processsing image 10_mask...\n",
      "Created 18 subimages\n",
      "Processsing image 03_mask...\n",
      "Created 40 subimages\n",
      "Processsing image 08_mask...\n",
      "Created 60 subimages\n",
      "Processsing image 04_mask...\n",
      "Created 32 subimages\n",
      "Processsing image 02_mask...\n",
      "Created 15 subimages\n",
      "Processsing image 06_mask...\n",
      "Created 40 subimages\n",
      "Processsing image 01_mask...\n",
      "Created 32 subimages\n",
      "Processsing image 09_mask...\n",
      "Created 15 subimages\n",
      "Processsing image 05_mask...\n",
      "Created 48 subimages\n"
     ]
    }
   ],
   "source": [
    "chop(256, 256,\n",
    "     os.path.join(ORIGINAL_IMAGES_PATH, '*_mask.jpg'),\n",
    "     os.path.join(ORIGINAL_IMAGES_PATH, '256x256'))"
   ]
  }
 ],
 "metadata": {
  "kernelspec": {
   "display_name": "Python 3",
   "language": "python",
   "name": "python3"
  },
  "language_info": {
   "codemirror_mode": {
    "name": "ipython",
    "version": 3
   },
   "file_extension": ".py",
   "mimetype": "text/x-python",
   "name": "python",
   "nbconvert_exporter": "python",
   "pygments_lexer": "ipython3",
   "version": "3.5.4"
  }
 },
 "nbformat": 4,
 "nbformat_minor": 4
}
