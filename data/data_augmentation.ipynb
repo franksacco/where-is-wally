{
 "cells": [
  {
   "cell_type": "markdown",
   "metadata": {},
   "source": [
    "# Data Augmentation\n",
    "\n",
    " - Keras Documentation - ImageDataGenerator class: https://keras.io/preprocessing/image/"
   ]
  },
  {
   "cell_type": "code",
   "execution_count": 1,
   "metadata": {},
   "outputs": [
    {
     "name": "stderr",
     "output_type": "stream",
     "text": [
      "Using TensorFlow backend.\n"
     ]
    }
   ],
   "source": [
    "import glob\n",
    "import numpy as np\n",
    "from keras.preprocessing.image import ImageDataGenerator\n",
    "from keras.preprocessing.image import img_to_array, load_img, save_img\n",
    "\n",
    "\n",
    "VALIDATION_SPLIT = 0.1\n",
    "SEED = 1"
   ]
  },
  {
   "cell_type": "code",
   "execution_count": 2,
   "metadata": {},
   "outputs": [
    {
     "name": "stdout",
     "output_type": "stream",
     "text": [
      "Found 62 images and masks\n",
      "Created 558 training images\n",
      "Created 62 validation images\n"
     ]
    }
   ],
   "source": [
    "data_gen_args = dict(\n",
    "    rotation_range=20,\n",
    "    zoom_range=0.15,\n",
    "    width_shift_range=0.2,\n",
    "    height_shift_range=0.2,\n",
    "    shear_range=0.15,\n",
    "    horizontal_flip=True,\n",
    "    fill_mode='constant',\n",
    "    validation_split=VALIDATION_SPLIT\n",
    ")\n",
    "image_datagen = ImageDataGenerator(**data_gen_args)\n",
    "mask_datagen = ImageDataGenerator(**data_gen_args)\n",
    "\n",
    "seed = 1\n",
    "images = []\n",
    "masks = []\n",
    "\n",
    "for image in sorted(glob.glob('256x256/*_image.jpg')):\n",
    "    images.append(img_to_array(load_img(image)))\n",
    "for mask in sorted(glob.glob('256x256/*_mask.jpg')):\n",
    "    masks.append(img_to_array(load_img(mask)))\n",
    "\n",
    "assert len(images) == len(masks)\n",
    "input_length = len(images)\n",
    "print(\"Found %d images and masks\" % input_length)\n",
    "\n",
    "images = np.array(images)\n",
    "masks = np.array(masks)\n",
    "\n",
    "train_generator = zip(\n",
    "    image_datagen.flow(images, batch_size=1, seed=SEED, subset='training'),\n",
    "    mask_datagen.flow(masks, batch_size=1, seed=SEED, subset='training')\n",
    ")\n",
    "val_generator = zip(\n",
    "    image_datagen.flow(images, batch_size=1, seed=SEED, subset='validation'),\n",
    "    mask_datagen.flow(masks, batch_size=1, seed=SEED, subset='validation')\n",
    ")\n",
    "\n",
    "# Enlarging dataset by a factor of 10.\n",
    "output_length = input_length * 10\n",
    "val_length = int(output_length * VALIDATION_SPLIT)\n",
    "train_length = output_length - val_length\n",
    "\n",
    "i = 0\n",
    "for images, masks in train_generator:\n",
    "    for image, mask in zip(images, masks):\n",
    "        save_img('aug/train/' + str(i) + '_image.jpg', image, quality=95)\n",
    "        save_img('aug/train/' + str(i) + '_mask.jpg', mask, quality=95)\n",
    "        i += 1\n",
    "    \n",
    "    if i >= train_length:\n",
    "        break\n",
    "\n",
    "print(\"Created %d training images\" % train_length)\n",
    "\n",
    "i = 0\n",
    "for images, masks in val_generator:\n",
    "    for image, mask in zip(images, masks):\n",
    "        save_img('aug/val/' + str(i) + '_image.jpg', image, quality=95)\n",
    "        save_img('aug/val/' + str(i) + '_mask.jpg', mask, quality=95)\n",
    "        i += 1\n",
    "    \n",
    "    if i >= val_length:\n",
    "        break\n",
    "\n",
    "print(\"Created %d validation images\" % val_length)"
   ]
  }
 ],
 "metadata": {
  "kernelspec": {
   "display_name": "Python 3",
   "language": "python",
   "name": "python3"
  },
  "language_info": {
   "codemirror_mode": {
    "name": "ipython",
    "version": 3
   },
   "file_extension": ".py",
   "mimetype": "text/x-python",
   "name": "python",
   "nbconvert_exporter": "python",
   "pygments_lexer": "ipython3",
   "version": "3.7.0"
  }
 },
 "nbformat": 4,
 "nbformat_minor": 4
}
