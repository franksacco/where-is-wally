{
 "cells": [
  {
   "cell_type": "markdown",
   "metadata": {},
   "source": [
    "# Dataset preprocessing\n",
    "\n",
    "- Images source: https://www.deviantart.com/where-is-waldo-wally/gallery/all"
   ]
  },
  {
   "cell_type": "markdown",
   "metadata": {},
   "source": [
    "## Crop orignal images\n",
    "\n",
    "Original images are cropped in order to remove redundant pixels and make their resolution multiple of 256.\n",
    "\n",
    "Original dimension: `4130 x 2455` pixels\\\n",
    "Target dimension: `3584 x 2304` pixels"
   ]
  },
  {
   "cell_type": "code",
   "execution_count": 1,
   "metadata": {},
   "outputs": [
    {
     "name": "stdout",
     "output_type": "stream",
     "text": [
      "Found 60 images\n",
      "Processsing 47_image...\n"
     ]
    },
    {
     "name": "stderr",
     "output_type": "stream",
     "text": [
      "/home/franksacco/.miniconda/envs/where-is-wally/lib/python3.7/site-packages/PIL/TiffImagePlugin.py:788: UserWarning: Corrupt EXIF data.  Expecting to read 4 bytes but only got 0. \n",
      "  warnings.warn(str(msg))\n"
     ]
    },
    {
     "name": "stdout",
     "output_type": "stream",
     "text": [
      "Processsing 57_image...\n",
      "Processsing 46_image...\n",
      "Processsing 12_image...\n",
      "Processsing 38_image...\n",
      "Processsing 14_image...\n",
      "Processsing 19_image...\n",
      "Processsing 05_image...\n",
      "Processsing 35_image...\n",
      "Processsing 18_image...\n",
      "Processsing 04_image...\n",
      "Processsing 50_image...\n",
      "Processsing 36_image...\n",
      "Processsing 27_image...\n",
      "Processsing 13_image...\n",
      "Processsing 11_image...\n",
      "Processsing 23_image...\n",
      "Processsing 07_image...\n",
      "Processsing 20_image...\n",
      "Processsing 55_image...\n",
      "Processsing 32_image...\n",
      "Processsing 54_image...\n",
      "Processsing 49_image...\n",
      "Processsing 06_image...\n",
      "Processsing 08_image...\n",
      "Processsing 56_image...\n",
      "Processsing 01_image...\n",
      "Processsing 53_image...\n",
      "Processsing 33_image...\n",
      "Processsing 16_image...\n",
      "Processsing 37_image...\n",
      "Processsing 31_image...\n",
      "Processsing 34_image...\n",
      "Processsing 45_image...\n",
      "Processsing 40_image...\n",
      "Processsing 52_image...\n",
      "Processsing 59_image...\n",
      "Processsing 42_image...\n",
      "Processsing 21_image...\n",
      "Processsing 22_image...\n",
      "Processsing 10_image...\n",
      "Processsing 28_image...\n",
      "Processsing 29_image...\n",
      "Processsing 25_image...\n",
      "Processsing 39_image...\n",
      "Processsing 41_image...\n",
      "Processsing 30_image...\n",
      "Processsing 26_image...\n",
      "Processsing 51_image...\n",
      "Processsing 48_image...\n",
      "Processsing 60_image...\n",
      "Processsing 15_image...\n",
      "Processsing 24_image...\n",
      "Processsing 43_image...\n",
      "Processsing 02_image...\n",
      "Processsing 58_image...\n",
      "Processsing 17_image...\n",
      "Processsing 03_image...\n",
      "Processsing 09_image...\n",
      "Processsing 44_image...\n"
     ]
    }
   ],
   "source": [
    "import glob\n",
    "from PIL import Image\n",
    "\n",
    "\n",
    "images = glob.glob('original/*_image.jpg')\n",
    "print(\"Found %d images\" % len(images))\n",
    "\n",
    "for image_path in images:\n",
    "    image_name = image_path[image_path.rindex('/') + 1:image_path.rindex('.')]\n",
    "    print(\"Processsing %s...\" % image_name)\n",
    "    \n",
    "    image = Image.open(image_path)\n",
    "    cropped = image.crop((0, 70, 3584, 2374))\n",
    "    cropped.save('cropped/' + image_name + '.jpg', quality=95)"
   ]
  },
  {
   "cell_type": "markdown",
   "metadata": {},
   "source": [
    "## Create sub-images\n",
    "\n",
    "Cropped images and relative masks are divided in `256 x 256` sub-images.\n",
    "\n",
    "Only images associated to a mask which contains at least one white pixel are saved."
   ]
  },
  {
   "cell_type": "code",
   "execution_count": null,
   "metadata": {
    "scrolled": false
   },
   "outputs": [],
   "source": [
    "import glob\n",
    "from PIL import Image\n",
    "\n",
    "\n",
    "images = glob.glob('cropped/*_image.jpg')\n",
    "masks = glob.glob('cropped/*_mask.jpg')\n",
    "print(\"Found %d images and %d masks\" % (len(images), len(masks)))\n",
    "    \n",
    "for image_path, mask_path in zip(images, masks):\n",
    "    \n",
    "    image_name = image_path[image_path.rindex('/') + 1:image_path.rindex('.')]\n",
    "    print(\"Processsing %s...\" % image_name)\n",
    "        \n",
    "    image = Image.open(image_path)\n",
    "    mask = Image.open(mask_path)\n",
    "\n",
    "    assert image.size == mask.size\n",
    "    width, height = image.size\n",
    "    rangex = int(width / 256)\n",
    "    rangey = int(height / 256)\n",
    "\n",
    "    for x in range(rangex):\n",
    "        for y in range(rangey):\n",
    "            bbox = (x * 256, y * 256, (x + 1) * 256, (y + 1) * 256)\n",
    "            \n",
    "            sub_mask = mask.crop(bbox).convert('1')\n",
    "            if sub_mask.getextrema() == (0, 255):\n",
    "                sub_mask.save(\n",
    "                    'masks/' + image_name + '_' + str(x) + '_' + str(y) + '.jpg',\n",
    "                    quality=95\n",
    "                )\n",
    "\n",
    "                sub_image = image.crop(bbox)\n",
    "                sub_image.save(\n",
    "                    'images/' + image_name + '_' + str(x) + '_' + str(y) + '.jpg',\n",
    "                    quality=95\n",
    "                )"
   ]
  }
 ],
 "metadata": {
  "kernelspec": {
   "display_name": "Python 3",
   "language": "python",
   "name": "python3"
  },
  "language_info": {
   "codemirror_mode": {
    "name": "ipython",
    "version": 3
   },
   "file_extension": ".py",
   "mimetype": "text/x-python",
   "name": "python",
   "nbconvert_exporter": "python",
   "pygments_lexer": "ipython3",
   "version": "3.7.0"
  }
 },
 "nbformat": 4,
 "nbformat_minor": 4
}
