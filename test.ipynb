{
 "cells": [
  {
   "cell_type": "markdown",
   "metadata": {},
   "source": [
    "# Evaluate model accuracy\n",
    "\n",
    "In this notebook I want to evaluate the accuracy of the best model obtained (i.e. `unet_v2.f1lo-b14-e60-lr0.001.44.hdf5`) using the old dataset as a test set."
   ]
  },
  {
   "cell_type": "markdown",
   "metadata": {},
   "source": [
    "### Load trained model"
   ]
  },
  {
   "cell_type": "code",
   "execution_count": 1,
   "metadata": {},
   "outputs": [],
   "source": [
    "import tensorflow.keras.backend as K\n",
    "\n",
    "def f1_score(y_true, y_pred):\n",
    "    \"\"\"F1 score metric.\n",
    "    \n",
    "    The F1 score is the harmonic mean of the precision and\n",
    "    recall, where an F1 score reaches its best value at 1\n",
    "    (perfect precision and recall).\n",
    "    \"\"\"\n",
    "    true_positives = K.sum(K.round(K.clip(y_true * y_pred, 0, 1)))\n",
    "    predicted_positives = K.sum(K.round(K.clip(y_pred, 0, 1)))\n",
    "    possible_positives = K.sum(K.round(K.clip(y_true, 0, 1)))\n",
    "    \n",
    "    p = true_positives / (predicted_positives + K.epsilon())\n",
    "    r = true_positives / (possible_positives + K.epsilon())\n",
    "    return 2 * p * r / (p + r + K.epsilon())\n",
    "\n",
    "def f1_loss(y_true, y_pred):\n",
    "    \"\"\"\n",
    "    The best loss function for F1-score would be, of course, the metric\n",
    "    itself: minimizing 1 − F1 is same as maximizing F1.\n",
    "    \"\"\"\n",
    "    true_positives = K.sum(y_true * y_pred)\n",
    "    predicted_positives = K.sum(y_pred)\n",
    "    possible_positives = K.sum(y_true)\n",
    "    \n",
    "    p = true_positives / (predicted_positives + K.epsilon())\n",
    "    r = true_positives / (possible_positives + K.epsilon())\n",
    "    return 1 - (2 * p * r / (p + r + K.epsilon()))"
   ]
  },
  {
   "cell_type": "code",
   "execution_count": 2,
   "metadata": {},
   "outputs": [],
   "source": [
    "from tensorflow.keras.models import load_model\n",
    "\n",
    "model = load_model(\n",
    "    'models/unet_v2.f1lo-b14-e60-lr0.001.44.hdf5',\n",
    "    custom_objects={'f1_score':f1_score, 'f1_loss': f1_loss}\n",
    ")"
   ]
  },
  {
   "cell_type": "markdown",
   "metadata": {},
   "source": [
    "### Load input images and masks"
   ]
  },
  {
   "cell_type": "code",
   "execution_count": 3,
   "metadata": {},
   "outputs": [
    {
     "name": "stdout",
     "output_type": "stream",
     "text": [
      "Found 30 images and 30 masks\n"
     ]
    }
   ],
   "source": [
    "import glob\n",
    "\n",
    "images = glob.glob('data/test/*_image.jpg')\n",
    "images.sort()\n",
    "masks = glob.glob('data/test/*_mask.jpg')\n",
    "masks.sort()\n",
    "print('Found %d images and %d masks' % (len(images), len(masks)))"
   ]
  },
  {
   "cell_type": "code",
   "execution_count": 4,
   "metadata": {},
   "outputs": [],
   "source": [
    "def process_images(images):\n",
    "    \"\"\"\n",
    "    Converting RGB values from [0, 255] to [0, 1].\n",
    "    \"\"\"\n",
    "    images /= 255.0\n",
    "    return images.astype(np.float32)\n",
    "\n",
    "def process_masks(masks):\n",
    "    \"\"\"\n",
    "    Converting RGB values from [0, 255] to {0, 1}.\n",
    "    \"\"\"\n",
    "    masks /= 255.0\n",
    "    masks[masks > 0.5] = 1\n",
    "    masks[masks <= 0.5] = 0\n",
    "    return masks.astype(np.float32)\n",
    "\n",
    "def process_results(predictions):\n",
    "    \"\"\"\n",
    "    Processing values from [0, 1] to {0, 255}.\n",
    "    The last dimension is removed.\n",
    "    \"\"\"\n",
    "    predictions[predictions > 0.5] = 255\n",
    "    predictions[predictions <= 0.5] = 0\n",
    "    return predictions"
   ]
  },
  {
   "cell_type": "code",
   "execution_count": 5,
   "metadata": {},
   "outputs": [],
   "source": [
    "from tensorflow.keras.preprocessing.image import img_to_array, load_img\n",
    "import numpy as np\n",
    "\n",
    "x = []\n",
    "for image in images:\n",
    "    image = load_img(image)\n",
    "    image = img_to_array(image)\n",
    "    x.append(image)\n",
    "\n",
    "x = np.array(x)\n",
    "x = process_images(x)\n",
    "\n",
    "y_true = []\n",
    "for mask in masks:\n",
    "    mask = load_img(mask)\n",
    "    mask = img_to_array(mask)\n",
    "    y_true.append(mask)\n",
    "\n",
    "y_true = np.array(y_true)\n",
    "y_true = process_masks(y_true)"
   ]
  },
  {
   "cell_type": "markdown",
   "metadata": {},
   "source": [
    "### Predict masks"
   ]
  },
  {
   "cell_type": "code",
   "execution_count": 6,
   "metadata": {},
   "outputs": [],
   "source": [
    "y_pred = model.predict(x)"
   ]
  },
  {
   "cell_type": "markdown",
   "metadata": {},
   "source": [
    "### Calculate accuracy on test set"
   ]
  },
  {
   "cell_type": "code",
   "execution_count": 7,
   "metadata": {
    "scrolled": true
   },
   "outputs": [
    {
     "name": "stdout",
     "output_type": "stream",
     "text": [
      "F1-score: 0.760333\n"
     ]
    }
   ],
   "source": [
    "f1 = f1_score(y_true, y_pred)\n",
    "\n",
    "print('F1-score: %f' % f1)"
   ]
  },
  {
   "cell_type": "markdown",
   "metadata": {},
   "source": [
    "### Save predicted masks"
   ]
  },
  {
   "cell_type": "code",
   "execution_count": 9,
   "metadata": {},
   "outputs": [],
   "source": [
    "from tensorflow.keras.preprocessing.image import array_to_img\n",
    "\n",
    "pred = process_results(y_pred)\n",
    "\n",
    "for i in range(x.shape[0]):\n",
    "    img = array_to_img(pred[i])\n",
    "    img.save('data/test/%02d_pred.jpg' % i, quality=95)"
   ]
  },
  {
   "cell_type": "markdown",
   "metadata": {},
   "source": [
    "### Visualize predicted masks"
   ]
  },
  {
   "cell_type": "code",
   "execution_count": null,
   "metadata": {
    "scrolled": false
   },
   "outputs": [],
   "source": [
    "import matplotlib.pyplot as plt\n",
    "\n",
    "pred = process_results(y_pred)\n",
    "pred = np.squeeze(pred, axis=-1)\n",
    "\n",
    "fig, axes = plt.subplots(x.shape[0], 3, figsize=(20,200))\n",
    "for i in range(x.shape[0]):\n",
    "    axes[i][0].imshow(x[i])\n",
    "    axes[i][0].set_title('Image %d' % i)\n",
    "    axes[i][0].get_xaxis().set_visible(False)\n",
    "    axes[i][0].get_yaxis().set_visible(False)\n",
    "\n",
    "    axes[i][1].imshow(pred[i], cmap='gray', vmin=0, vmax=255)\n",
    "    axes[i][1].set_title('Predicted mask')\n",
    "    axes[i][1].get_xaxis().set_visible(False)\n",
    "    axes[i][1].get_yaxis().set_visible(False)\n",
    "    \n",
    "    axes[i][2].imshow(y_true[i], cmap='gray', vmin=0, vmax=255)\n",
    "    axes[i][2].set_title('Correct mask')\n",
    "    axes[i][2].get_xaxis().set_visible(False)\n",
    "    axes[i][2].get_yaxis().set_visible(False)\n",
    "\n",
    "plt.subplots_adjust(wspace=0, hspace=0.1)"
   ]
  }
 ],
 "metadata": {
  "kernelspec": {
   "display_name": "Python 3",
   "language": "python",
   "name": "python3"
  },
  "language_info": {
   "codemirror_mode": {
    "name": "ipython",
    "version": 3
   },
   "file_extension": ".py",
   "mimetype": "text/x-python",
   "name": "python",
   "nbconvert_exporter": "python",
   "pygments_lexer": "ipython3",
   "version": "3.7.0"
  }
 },
 "nbformat": 4,
 "nbformat_minor": 4
}
